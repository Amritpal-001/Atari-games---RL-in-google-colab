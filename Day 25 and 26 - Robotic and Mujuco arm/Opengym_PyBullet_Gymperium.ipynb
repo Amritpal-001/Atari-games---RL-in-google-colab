{
  "nbformat": 4,
  "nbformat_minor": 0,
  "metadata": {
    "colab": {
      "name": "Opengym PyBullet Gymperium.ipynb",
      "provenance": [],
      "collapsed_sections": [],
      "toc_visible": true
    },
    "kernelspec": {
      "name": "python3",
      "display_name": "Python 3"
    }
  },
  "cells": [
    {
      "cell_type": "markdown",
      "metadata": {
        "id": "msnEAJDTKGEA",
        "colab_type": "text"
      },
      "source": [
        "# PyBullet Gymperium\n",
        "\n",
        "PyBullet Gymperium is an open-source implementation of the OpenAI Gym MuJoCo environments for use with the OpenAI Gym Reinforcement Learning Research Platform in support of open research.https://github.com/benelot/pybullet-gym\n",
        "\n",
        "installation - https://github.com/benelot/pybullet-gym#installing-pybullet-gym\n",
        "\n",
        "\n",
        "**Intersting environments**\n",
        "- Walker2DPyBulletEnv-v0\n",
        "- PusherPyBulletEnv-v0\n",
        "- HumanoidPyBulletEnv-v0 \t\n",
        "- HumanoidFlagrunPyBulletEnv-v0 \t\n",
        "- HumanoidFlagrunHarderPyBulletEnv-v0\n",
        "- HalfCheetahPyBulletEnv-v0"
      ]
    },
    {
      "cell_type": "code",
      "metadata": {
        "id": "KgtKcZgkJ8TO",
        "colab_type": "code",
        "colab": {
          "base_uri": "https://localhost:8080/",
          "height": 104
        },
        "outputId": "99c2bc28-be89-465d-880e-b3290b490345"
      },
      "source": [
        "!git clone https://github.com/benelot/pybullet-gym.git"
      ],
      "execution_count": 1,
      "outputs": [
        {
          "output_type": "stream",
          "text": [
            "Cloning into 'pybullet-gym'...\n",
            "remote: Enumerating objects: 735, done.\u001b[K\n",
            "remote: Total 735 (delta 0), reused 0 (delta 0), pack-reused 735\u001b[K\n",
            "Receiving objects: 100% (735/735), 19.29 MiB | 25.23 MiB/s, done.\n",
            "Resolving deltas: 100% (405/405), done.\n"
          ],
          "name": "stdout"
        }
      ]
    },
    {
      "cell_type": "code",
      "metadata": {
        "id": "JCguvN2JKdWW",
        "colab_type": "code",
        "colab": {
          "base_uri": "https://localhost:8080/",
          "height": 176
        },
        "outputId": "7c29c5b2-2312-46ba-de23-48563d54ca6e"
      },
      "source": [
        "%cd '/content/pybullet-gym'\n",
        "!pip install -e ."
      ],
      "execution_count": 2,
      "outputs": [
        {
          "output_type": "stream",
          "text": [
            "/content/pybullet-gym\n",
            "Obtaining file:///content/pybullet-gym\n",
            "Collecting pybullet>=1.7.8\n",
            "\u001b[?25l  Downloading https://files.pythonhosted.org/packages/ba/77/abc4d5af8e46e2b5523d5c504ffd9086520bf657286a5ac623daf5d98e03/pybullet-2.8.3-cp36-cp36m-manylinux1_x86_64.whl (95.3MB)\n",
            "\u001b[K     |████████████████████████████████| 95.3MB 64kB/s \n",
            "\u001b[?25hInstalling collected packages: pybullet, pybulletgym\n",
            "  Running setup.py develop for pybulletgym\n",
            "Successfully installed pybullet-2.8.3 pybulletgym\n"
          ],
          "name": "stdout"
        }
      ]
    },
    {
      "cell_type": "code",
      "metadata": {
        "id": "lNLxby8EJ_r8",
        "colab_type": "code",
        "colab": {
          "base_uri": "https://localhost:8080/",
          "height": 278
        },
        "outputId": "149ffe01-0413-4bb7-f954-79f2128489c1"
      },
      "source": [
        "import gym  # open ai gym\n",
        "import pybulletgym  # register PyBullet enviroments with open ai gym\n",
        "\n",
        "env = gym.make('HumanoidPyBulletEnv-v0')\n",
        "# env.render() # call this before env.reset, if you want a window showing the environment\n",
        "env.reset()  # should return a"
      ],
      "execution_count": 3,
      "outputs": [
        {
          "output_type": "stream",
          "text": [
            "/usr/local/lib/python3.6/dist-packages/gym/logger.py:30: UserWarning: \u001b[33mWARN: Box bound precision lowered by casting to float32\u001b[0m\n",
            "  warnings.warn(colorize('%s: %s'%('WARN', msg % args), 'yellow'))\n"
          ],
          "name": "stderr"
        },
        {
          "output_type": "stream",
          "text": [
            "WalkerBase::__init__\n"
          ],
          "name": "stdout"
        },
        {
          "output_type": "execute_result",
          "data": {
            "text/plain": [
              "array([ 5.99999964e-01, -1.13339365e-05,  1.00000000e+00,  0.00000000e+00,\n",
              "        0.00000000e+00,  0.00000000e+00,  0.00000000e+00, -0.00000000e+00,\n",
              "       -1.57788694e-02,  0.00000000e+00,  3.91603112e-01,  0.00000000e+00,\n",
              "        1.11534797e-01,  0.00000000e+00,  3.47135633e-01,  0.00000000e+00,\n",
              "        3.25597286e-01,  0.00000000e+00,  6.77650213e-01,  0.00000000e+00,\n",
              "        1.00848866e+00,  0.00000000e+00,  4.06919450e-01,  0.00000000e+00,\n",
              "        2.71721035e-01,  0.00000000e+00,  7.08000898e-01,  0.00000000e+00,\n",
              "        9.54191506e-01,  0.00000000e+00,  1.24513835e-01,  0.00000000e+00,\n",
              "        1.88267633e-01,  0.00000000e+00,  3.23976874e-01,  0.00000000e+00,\n",
              "       -2.07212105e-01,  0.00000000e+00, -1.36818588e-01,  0.00000000e+00,\n",
              "        3.53709489e-01,  0.00000000e+00,  0.00000000e+00,  0.00000000e+00],\n",
              "      dtype=float32)"
            ]
          },
          "metadata": {
            "tags": []
          },
          "execution_count": 3
        }
      ]
    },
    {
      "cell_type": "code",
      "metadata": {
        "id": "jEnzl6W-e2Wf",
        "colab_type": "code",
        "colab": {}
      },
      "source": [
        "import gym\n",
        "from gym import logger as gymlogger\n",
        "from gym.wrappers import Monitor\n",
        "gymlogger.set_level(40) # error only\n",
        "import tensorflow as tf\n",
        "import numpy as np\n",
        "import random\n",
        "import matplotlib\n",
        "import matplotlib.pyplot as plt\n",
        "%matplotlib inline\n",
        "import math\n",
        "import glob\n",
        "import io\n",
        "import base64\n",
        "from IPython.display import HTML"
      ],
      "execution_count": 6,
      "outputs": []
    },
    {
      "cell_type": "code",
      "metadata": {
        "id": "GkgjUnJtei9Z",
        "colab_type": "code",
        "colab": {
          "base_uri": "https://localhost:8080/",
          "height": 304
        },
        "outputId": "98d5c13d-da9e-4549-9b51-70f0858b7eaa"
      },
      "source": [
        "env = gym.make('Walker2DPyBulletEnv-v0')\n",
        "env.reset() \n",
        "plt.imshow(env.render('rgb_array'))"
      ],
      "execution_count": 7,
      "outputs": [
        {
          "output_type": "stream",
          "text": [
            "WalkerBase::__init__\n"
          ],
          "name": "stdout"
        },
        {
          "output_type": "execute_result",
          "data": {
            "text/plain": [
              "<matplotlib.image.AxesImage at 0x7f9275610cc0>"
            ]
          },
          "metadata": {
            "tags": []
          },
          "execution_count": 7
        },
        {
          "output_type": "display_data",
          "data": {
            "image/png": "[encoded data removed]",
            "text/plain": [
              "<Figure size 432x288 with 1 Axes>"
            ]
          },
          "metadata": {
            "tags": [],
            "needs_background": "light"
          }
        }
      ]
    },
    {
      "cell_type": "code",
      "metadata": {
        "id": "ymKs_rf5e9Tn",
        "colab_type": "code",
        "colab": {
          "base_uri": "https://localhost:8080/",
          "height": 286
        },
        "outputId": "b155947e-e188-4c91-9f51-08c4db84ab08"
      },
      "source": [
        "env = gym.make('PusherPyBulletEnv-v0')\n",
        "env.reset() \n",
        "plt.imshow(env.render('rgb_array'))"
      ],
      "execution_count": 8,
      "outputs": [
        {
          "output_type": "execute_result",
          "data": {
            "text/plain": [
              "<matplotlib.image.AxesImage at 0x7f9275165518>"
            ]
          },
          "metadata": {
            "tags": []
          },
          "execution_count": 8
        },
        {
          "output_type": "display_data",
          "data": {
            "image/png": "[encoded data removed]",
            "text/plain": [
              "<Figure size 432x288 with 1 Axes>"
            ]
          },
          "metadata": {
            "tags": [],
            "needs_background": "light"
          }
        }
      ]
    },
    {
      "cell_type": "code",
      "metadata": {
        "id": "ar6pylime-WD",
        "colab_type": "code",
        "colab": {
          "base_uri": "https://localhost:8080/",
          "height": 304
        },
        "outputId": "8b2b849f-f197-4e45-bd7e-e65ff9e9a1bf"
      },
      "source": [
        "env = gym.make('HumanoidPyBulletEnv-v0')\n",
        "env.reset() \n",
        "plt.imshow(env.render('rgb_array'))"
      ],
      "execution_count": 13,
      "outputs": [
        {
          "output_type": "stream",
          "text": [
            "WalkerBase::__init__\n"
          ],
          "name": "stdout"
        },
        {
          "output_type": "execute_result",
          "data": {
            "text/plain": [
              "<matplotlib.image.AxesImage at 0x7f9274f5f390>"
            ]
          },
          "metadata": {
            "tags": []
          },
          "execution_count": 13
        },
        {
          "output_type": "display_data",
          "data": {
            "image/png": "[encoded data removed]",
            "text/plain": [
              "<Figure size 432x288 with 1 Axes>"
            ]
          },
          "metadata": {
            "tags": [],
            "needs_background": "light"
          }
        }
      ]
    },
    {
      "cell_type": "code",
      "metadata": {
        "id": "8mifJGhce-tI",
        "colab_type": "code",
        "colab": {
          "base_uri": "https://localhost:8080/",
          "height": 304
        },
        "outputId": "bb344322-f316-4abd-c309-b2d24394cce0"
      },
      "source": [
        "env = gym.make('HumanoidFlagrunPyBulletEnv-v0')\n",
        "env.reset() \n",
        "plt.imshow(env.render('rgb_array'))"
      ],
      "execution_count": 10,
      "outputs": [
        {
          "output_type": "stream",
          "text": [
            "WalkerBase::__init__\n"
          ],
          "name": "stdout"
        },
        {
          "output_type": "execute_result",
          "data": {
            "text/plain": [
              "<matplotlib.image.AxesImage at 0x7f92750b1e80>"
            ]
          },
          "metadata": {
            "tags": []
          },
          "execution_count": 10
        },
        {
          "output_type": "display_data",
          "data": {
            "image/png": "[encoded data removed]",
            "text/plain": [
              "<Figure size 432x288 with 1 Axes>"
            ]
          },
          "metadata": {
            "tags": [],
            "needs_background": "light"
          }
        }
      ]
    },
    {
      "cell_type": "code",
      "metadata": {
        "id": "tQ6rtlzgfAho",
        "colab_type": "code",
        "colab": {
          "base_uri": "https://localhost:8080/",
          "height": 304
        },
        "outputId": "996bd357-f674-4e5e-e195-435a138cd953"
      },
      "source": [
        "env = gym.make('HumanoidFlagrunHarderPyBulletEnv-v0')\n",
        "env.reset() \n",
        "plt.imshow(env.render('rgb_array'))"
      ],
      "execution_count": 11,
      "outputs": [
        {
          "output_type": "stream",
          "text": [
            "WalkerBase::__init__\n"
          ],
          "name": "stdout"
        },
        {
          "output_type": "execute_result",
          "data": {
            "text/plain": [
              "<matplotlib.image.AxesImage at 0x7f9275016eb8>"
            ]
          },
          "metadata": {
            "tags": []
          },
          "execution_count": 11
        },
        {
          "output_type": "display_data",
          "data": {
            "image/png": "[encoded data removed]",
            "text/plain": [
              "<Figure size 432x288 with 1 Axes>"
            ]
          },
          "metadata": {
            "tags": [],
            "needs_background": "light"
          }
        }
      ]
    },
    {
      "cell_type": "code",
      "metadata": {
        "id": "678CecPpe-96",
        "colab_type": "code",
        "colab": {
          "base_uri": "https://localhost:8080/",
          "height": 304
        },
        "outputId": "e0c5825e-0a5f-4ad2-e139-1df4b58a9de5"
      },
      "source": [
        "env = gym.make('HalfCheetahPyBulletEnv-v0')\n",
        "env.reset() \n",
        "plt.imshow(env.render('rgb_array'))"
      ],
      "execution_count": 12,
      "outputs": [
        {
          "output_type": "stream",
          "text": [
            "WalkerBase::__init__\n"
          ],
          "name": "stdout"
        },
        {
          "output_type": "execute_result",
          "data": {
            "text/plain": [
              "<matplotlib.image.AxesImage at 0x7f9274f7c7f0>"
            ]
          },
          "metadata": {
            "tags": []
          },
          "execution_count": 12
        },
        {
          "output_type": "display_data",
          "data": {
            "image/png": "[encoded data removed]",
            "text/plain": [
              "<Figure size 432x288 with 1 Axes>"
            ]
          },
          "metadata": {
            "tags": [],
            "needs_background": "light"
          }
        }
      ]
    },
    {
      "cell_type": "code",
      "metadata": {
        "id": "D-FAkwP8MIuE",
        "colab_type": "code",
        "colab": {
          "base_uri": "https://localhost:8080/",
          "height": 1000
        },
        "outputId": "cdc6924d-f6c2-425b-ae03-b975556a6416"
      },
      "source": [
        "!pip install gym\n",
        "!apt-get install python-opengl -y\n",
        "!apt install xvfb -y\n",
        "\n",
        "!pip install gym[atari]\n",
        "\n",
        "!pip install pyvirtualdisplay\n",
        "!pip install piglet"
      ],
      "execution_count": null,
      "outputs": [
        {
          "output_type": "stream",
          "text": [
            "Requirement already satisfied: gym in /usr/local/lib/python3.6/dist-packages (0.17.2)\n",
            "Requirement already satisfied: pyglet<=1.5.0,>=1.4.0 in /usr/local/lib/python3.6/dist-packages (from gym) (1.5.0)\n",
            "Requirement already satisfied: cloudpickle<1.4.0,>=1.2.0 in /usr/local/lib/python3.6/dist-packages (from gym) (1.3.0)\n",
            "Requirement already satisfied: scipy in /usr/local/lib/python3.6/dist-packages (from gym) (1.4.1)\n",
            "Requirement already satisfied: numpy>=1.10.4 in /usr/local/lib/python3.6/dist-packages (from gym) (1.18.5)\n",
            "Requirement already satisfied: future in /usr/local/lib/python3.6/dist-packages (from pyglet<=1.5.0,>=1.4.0->gym) (0.16.0)\n",
            "Reading package lists... Done\n",
            "Building dependency tree       \n",
            "Reading state information... Done\n",
            "The following package was automatically installed and is no longer required:\n",
            "  libnvidia-common-440\n",
            "Use 'apt autoremove' to remove it.\n",
            "Suggested packages:\n",
            "  libgle3\n",
            "The following NEW packages will be installed:\n",
            "  python-opengl\n",
            "0 upgraded, 1 newly installed, 0 to remove and 33 not upgraded.\n",
            "Need to get 496 kB of archives.\n",
            "After this operation, 5,416 kB of additional disk space will be used.\n",
            "Get:1 http://archive.ubuntu.com/ubuntu bionic/universe amd64 python-opengl all 3.1.0+dfsg-1 [496 kB]\n",
            "Fetched 496 kB in 2s (255 kB/s)\n",
            "Selecting previously unselected package python-opengl.\n",
            "(Reading database ... 144379 files and directories currently installed.)\n",
            "Preparing to unpack .../python-opengl_3.1.0+dfsg-1_all.deb ...\n",
            "Unpacking python-opengl (3.1.0+dfsg-1) ...\n",
            "Setting up python-opengl (3.1.0+dfsg-1) ...\n",
            "Reading package lists... Done\n",
            "Building dependency tree       \n",
            "Reading state information... Done\n",
            "The following package was automatically installed and is no longer required:\n",
            "  libnvidia-common-440\n",
            "Use 'apt autoremove' to remove it.\n",
            "The following NEW packages will be installed:\n",
            "  xvfb\n",
            "0 upgraded, 1 newly installed, 0 to remove and 33 not upgraded.\n",
            "Need to get 784 kB of archives.\n",
            "After this operation, 2,266 kB of additional disk space will be used.\n",
            "Get:1 http://archive.ubuntu.com/ubuntu bionic-updates/universe amd64 xvfb amd64 2:1.19.6-1ubuntu4.4 [784 kB]\n",
            "Fetched 784 kB in 2s (418 kB/s)\n",
            "Selecting previously unselected package xvfb.\n",
            "(Reading database ... 146734 files and directories currently installed.)\n",
            "Preparing to unpack .../xvfb_2%3a1.19.6-1ubuntu4.4_amd64.deb ...\n",
            "Unpacking xvfb (2:1.19.6-1ubuntu4.4) ...\n",
            "Setting up xvfb (2:1.19.6-1ubuntu4.4) ...\n",
            "Processing triggers for man-db (2.8.3-2ubuntu0.1) ...\n",
            "Requirement already satisfied: gym[atari] in /usr/local/lib/python3.6/dist-packages (0.17.2)\n",
            "Requirement already satisfied: pyglet<=1.5.0,>=1.4.0 in /usr/local/lib/python3.6/dist-packages (from gym[atari]) (1.5.0)\n",
            "Requirement already satisfied: scipy in /usr/local/lib/python3.6/dist-packages (from gym[atari]) (1.4.1)\n",
            "Requirement already satisfied: cloudpickle<1.4.0,>=1.2.0 in /usr/local/lib/python3.6/dist-packages (from gym[atari]) (1.3.0)\n",
            "Requirement already satisfied: numpy>=1.10.4 in /usr/local/lib/python3.6/dist-packages (from gym[atari]) (1.18.5)\n",
            "Requirement already satisfied: Pillow; extra == \"atari\" in /usr/local/lib/python3.6/dist-packages (from gym[atari]) (7.0.0)\n",
            "Requirement already satisfied: opencv-python; extra == \"atari\" in /usr/local/lib/python3.6/dist-packages (from gym[atari]) (4.1.2.30)\n",
            "Requirement already satisfied: atari-py~=0.2.0; extra == \"atari\" in /usr/local/lib/python3.6/dist-packages (from gym[atari]) (0.2.6)\n",
            "Requirement already satisfied: future in /usr/local/lib/python3.6/dist-packages (from pyglet<=1.5.0,>=1.4.0->gym[atari]) (0.16.0)\n",
            "Requirement already satisfied: six in /usr/local/lib/python3.6/dist-packages (from atari-py~=0.2.0; extra == \"atari\"->gym[atari]) (1.12.0)\n",
            "Collecting pyvirtualdisplay\n",
            "  Downloading https://files.pythonhosted.org/packages/d0/8a/643043cc70791367bee2d19eb20e00ed1a246ac48e5dbe57bbbcc8be40a9/PyVirtualDisplay-1.3.2-py2.py3-none-any.whl\n",
            "Collecting EasyProcess\n",
            "  Downloading https://files.pythonhosted.org/packages/48/3c/75573613641c90c6d094059ac28adb748560d99bd27ee6f80cce398f404e/EasyProcess-0.3-py2.py3-none-any.whl\n",
            "Installing collected packages: EasyProcess, pyvirtualdisplay\n",
            "Successfully installed EasyProcess-0.3 pyvirtualdisplay-1.3.2\n",
            "Collecting piglet\n",
            "  Downloading https://files.pythonhosted.org/packages/11/56/6840e5f45626dc7eb7cd5dff57d11880b3113723b3b7b1fb1fa537855b75/piglet-1.0.0-py2.py3-none-any.whl\n",
            "Collecting piglet-templates\n",
            "\u001b[?25l  Downloading https://files.pythonhosted.org/packages/d0/dc/d628dcdf0b38b8f230e9c2309bfa370d2e3fb95e9e9c260213d10fde91ac/piglet_templates-1.0.0-py3-none-any.whl (63kB)\n",
            "\u001b[K     |████████████████████████████████| 71kB 2.1MB/s \n",
            "\u001b[?25hRequirement already satisfied: attrs in /usr/local/lib/python3.6/dist-packages (from piglet-templates->piglet) (19.3.0)\n",
            "Requirement already satisfied: astunparse in /usr/local/lib/python3.6/dist-packages (from piglet-templates->piglet) (1.6.3)\n",
            "Collecting Parsley\n",
            "\u001b[?25l  Downloading https://files.pythonhosted.org/packages/2b/d6/4fed8d65e28a970e1c5cb33ce9c7e22e3de745e1b2ae37af051ef16aea3b/Parsley-1.3-py2.py3-none-any.whl (88kB)\n",
            "\u001b[K     |████████████████████████████████| 92kB 4.8MB/s \n",
            "\u001b[?25hRequirement already satisfied: markupsafe in /usr/local/lib/python3.6/dist-packages (from piglet-templates->piglet) (1.1.1)\n",
            "Requirement already satisfied: wheel<1.0,>=0.23.0 in /usr/local/lib/python3.6/dist-packages (from astunparse->piglet-templates->piglet) (0.34.2)\n",
            "Requirement already satisfied: six<2.0,>=1.6.1 in /usr/local/lib/python3.6/dist-packages (from astunparse->piglet-templates->piglet) (1.12.0)\n",
            "Installing collected packages: Parsley, piglet-templates, piglet\n",
            "Successfully installed Parsley-1.3 piglet-1.0.0 piglet-templates-1.0.0\n"
          ],
          "name": "stdout"
        }
      ]
    },
    {
      "cell_type": "code",
      "metadata": {
        "id": "V_tAObsqF47Q",
        "colab_type": "code",
        "colab": {
          "base_uri": "https://localhost:8080/",
          "height": 34
        },
        "outputId": "c5d727bb-319c-4ae1-c3b6-76bb91cef600"
      },
      "source": [
        "from keras.models import Sequential \n",
        "from keras.layers import Dense, Flatten  \n",
        "from collections import deque           \n",
        "\n",
        "import numpy as np\n",
        "import gym\n",
        "\n",
        "import random "
      ],
      "execution_count": 5,
      "outputs": [
        {
          "output_type": "stream",
          "text": [
            "Using TensorFlow backend.\n"
          ],
          "name": "stderr"
        }
      ]
    },
    {
      "cell_type": "code",
      "metadata": {
        "id": "KyUAGxlgLFNR",
        "colab_type": "code",
        "colab": {}
      },
      "source": [
        "import gym  # open ai gym\n",
        "import pybulletgym  # register PyBullet enviroments with open ai gym\n",
        "\n",
        "from pyvirtualdisplay import Display\n",
        "display = Display(visible=0, size=(1400, 900))\n",
        "display.start()\n",
        "\n",
        "# This code creates a virtual display to draw game images on. \n",
        "# If you are running locally, just ignore it\n",
        "import os\n",
        "if type(os.environ.get(\"DISPLAY\")) is not str or len(os.environ.get(\"DISPLAY\"))==0:\n",
        "    !bash ../xvfb start\n",
        "    %env DISPLAY=:1\n",
        "\n",
        "import gym\n",
        "from gym import logger as gymlogger\n",
        "from gym.wrappers import Monitor\n",
        "gymlogger.set_level(40) # error only\n",
        "import tensorflow as tf\n",
        "import numpy as np\n",
        "import random\n",
        "import matplotlib\n",
        "import matplotlib.pyplot as plt\n",
        "%matplotlib inline\n",
        "import math\n",
        "import glob\n",
        "import io\n",
        "import base64\n",
        "from IPython.display import HTML\n",
        "\n",
        "from IPython import display as ipythondisplay\n",
        "\n",
        "\"\"\"\n",
        "Utility functions to enable video recording of gym environment and displaying it\n",
        "To enable video, just do \"env = wrap_env(env)\"\"\n",
        "\"\"\"\n",
        "\n",
        "def show_video():\n",
        "  mp4list = glob.glob('video/*.mp4')\n",
        "  if len(mp4list) > 0:\n",
        "    mp4 = mp4list[0]\n",
        "    video = io.open(mp4, 'r+b').read()\n",
        "    encoded = base64.b64encode(video)\n",
        "    ipythondisplay.display(HTML(data='''<video alt=\"test\" autoplay \n",
        "                loop controls style=\"height: 400px;\">\n",
        "                <source src=\"data:video/mp4;base64,{0}\" type=\"video/mp4\" />\n",
        "             </video>'''.format(encoded.decode('ascii'))))\n",
        "  else: \n",
        "    print(\"Could not find video\")\n",
        "    \n",
        "\n",
        "def wrap_env(env):\n",
        "  env = Monitor(env, './video', force=True)\n",
        "  return env"
      ],
      "execution_count": null,
      "outputs": []
    },
    {
      "cell_type": "code",
      "metadata": {
        "id": "c0MdpKdOF470",
        "colab_type": "code",
        "colab": {
          "base_uri": "https://localhost:8080/",
          "height": 243
        },
        "outputId": "09a23805-8882-4abf-ab80-bfbd6d065cbb"
      },
      "source": [
        "env = gym.make('HumanoidPyBulletEnv-v0')\n",
        "# env.render() # call this before env.reset, if you want a window showing the environment\n",
        "#env.reset()  # should return a\n",
        "\n",
        "env = wrap_env(env)  # defined before for rendering online\n",
        "\n",
        "env.reset()\n"
      ],
      "execution_count": null,
      "outputs": [
        {
          "output_type": "stream",
          "text": [
            "WalkerBase::__init__\n"
          ],
          "name": "stdout"
        },
        {
          "output_type": "execute_result",
          "data": {
            "text/plain": [
              "array([ 5.9999996e-01,  1.2437923e-05,  1.0000000e+00,  0.0000000e+00,\n",
              "        0.0000000e+00,  0.0000000e+00,  0.0000000e+00, -0.0000000e+00,\n",
              "        7.4369371e-02,  0.0000000e+00,  3.3032793e-01,  0.0000000e+00,\n",
              "       -7.8109041e-02,  0.0000000e+00,  5.5529797e-01,  0.0000000e+00,\n",
              "        2.8154221e-01,  0.0000000e+00,  6.9670767e-01,  0.0000000e+00,\n",
              "        9.7042698e-01,  0.0000000e+00,  6.5962672e-01,  0.0000000e+00,\n",
              "        2.7752540e-01,  0.0000000e+00,  6.3921678e-01,  0.0000000e+00,\n",
              "        9.9171829e-01,  0.0000000e+00,  9.4719753e-02,  0.0000000e+00,\n",
              "        9.4329193e-02,  0.0000000e+00,  3.5010126e-01,  0.0000000e+00,\n",
              "       -1.9919546e-01,  0.0000000e+00, -1.3758795e-01,  0.0000000e+00,\n",
              "        2.4676672e-01,  0.0000000e+00,  0.0000000e+00,  0.0000000e+00],\n",
              "      dtype=float32)"
            ]
          },
          "metadata": {
            "tags": []
          },
          "execution_count": 3
        }
      ]
    },
    {
      "cell_type": "code",
      "metadata": {
        "id": "nOqWNKtmOzJk",
        "colab_type": "code",
        "colab": {
          "base_uri": "https://localhost:8080/",
          "height": 34
        },
        "outputId": "6f49efb1-dc16-4b18-9ce7-50010e34078f"
      },
      "source": [
        "env = gym.make('HumanoidPyBulletEnv-v0')\n",
        "env = wrap_env(env)\n",
        "\n",
        "done = True\n",
        "for step in range(500):\n",
        "    if done:\n",
        "        state = env.reset()\n",
        "    state, reward, done, info = env.step(env.action_space.sample())\n",
        "    env.render()\n",
        "\n",
        "env.close()\n"
      ],
      "execution_count": null,
      "outputs": [
        {
          "output_type": "stream",
          "text": [
            "WalkerBase::__init__\n"
          ],
          "name": "stdout"
        }
      ]
    },
    {
      "cell_type": "code",
      "metadata": {
        "id": "GhsUzIhFUEXh",
        "colab_type": "code",
        "colab": {}
      },
      "source": [
        "show_video()"
      ],
      "execution_count": null,
      "outputs": []
    },
    {
      "cell_type": "markdown",
      "metadata": {
        "id": "E_AVFgUyOz3H",
        "colab_type": "text"
      },
      "source": [
        "# Connecting to Neural networks(pending)"
      ]
    },
    {
      "cell_type": "code",
      "metadata": {
        "id": "eyXp5KZlF48Z",
        "colab_type": "code",
        "colab": {}
      },
      "source": [
        "model.add(Dense(20, input_shape=(2,) + env.observation_space.shape, kernel_initializer='uniform', activation='relu'))\n",
        "model.add(Flatten())\n",
        "model.add(Dense(18, kernel_initializer='uniform', activation='relu'))\n",
        "model.add(Dense(10, kernel_initializer='uniform', activation='relu'))\n",
        "model.add(Dense(env.action_space.n, kernel_initializer='uniform', activation='linear')) \n",
        "model.compile(loss='mse', optimizer='adam', metrics=['accuracy'])         "
      ],
      "execution_count": null,
      "outputs": []
    },
    {
      "cell_type": "code",
      "metadata": {
        "id": "ecNoNYR3F480",
        "colab_type": "code",
        "colab": {}
      },
      "source": [
        "# Params\n",
        "D = deque()                                \n",
        "\n",
        "observetime = 5000                 \n",
        "epsilon = 0.7                            \n",
        "gamma = 0.9\n",
        "mb_size = 50"
      ],
      "execution_count": null,
      "outputs": []
    },
    {
      "cell_type": "code",
      "metadata": {
        "id": "Y41BjdFtL9ph",
        "colab_type": "code",
        "colab": {}
      },
      "source": [
        "# FIRST STEP: Knowing what each action does (Observing)\n",
        "\n",
        "observation = env.reset()                     # Game begins\n",
        "obs = np.expand_dims(observation, axis=0)     # (Formatting issues) Making the observation the first element of a batch of inputs \n",
        "state = np.stack((obs, obs), axis=1)\n",
        "done = False\n",
        "for t in range(observetime):\n",
        "    #env.render()\n",
        "    if np.random.rand() <= epsilon:\n",
        "        action = np.random.randint(0, env.action_space.n, size=1)[0]\n",
        "    else:\n",
        "        Q = model.predict(state)          # Q-values predictions\n",
        "        action = np.argmax(Q)             # Move with highest Q-value is the chosen one\n",
        "    observation_new, reward, done, info = env.step(action)     # See state of the game, reward... after performing the action\n",
        "    obs_new = np.expand_dims(observation_new, axis=0)          # (Formatting issues)\n",
        "    state_new = np.append(np.expand_dims(obs_new, axis=0), state[:, :1, :], axis=1)     # Update the input with the new state of the game\n",
        "    D.append((state, action, reward, state_new, done))         # 'Remember' action and consequence\n",
        "    state = state_new         # Update state\n",
        "    if done:\n",
        "        env.reset()           # Restart game if it's finished\n",
        "        obs = np.expand_dims(observation, axis=0)     # (Formatting issues) Making the observation the first element of a batch of inputs \n",
        "        state = np.stack((obs, obs), axis=1)\n",
        "print('Observing Finished')\n",
        "show_video()"
      ],
      "execution_count": null,
      "outputs": []
    },
    {
      "cell_type": "code",
      "metadata": {
        "id": "Kyq-og3TF49p",
        "colab_type": "code",
        "colab": {}
      },
      "source": [
        "minibatch = random.sample(D, mb_size)\n",
        "\n",
        "inputs_shape = (mb_size,) + state.shape[1:]\n",
        "inputs = np.zeros(inputs_shape)\n",
        "targets = np.zeros((mb_size, env.action_space.n))\n",
        "\n",
        "for i in range(0, mb_size):\n",
        "    state = minibatch[i][0]\n",
        "    action = minibatch[i][1]\n",
        "    reward = minibatch[i][2]\n",
        "    state_new = minibatch[i][3]\n",
        "    done = minibatch[i][4]\n",
        "    \n",
        "# Build Bellman equation for the Q function\n",
        "    inputs[i:i+1] = np.expand_dims(state, axis=0)\n",
        "    targets[i] = model.predict(state)\n",
        "    Q_sa = model.predict(state_new)\n",
        "    \n",
        "    if done:\n",
        "        targets[i, action] = reward\n",
        "    else:\n",
        "        targets[i, action] = reward + gamma * np.max(Q_sa)\n",
        "\n",
        "# Train network to output the Q function\n",
        "    model.train_on_batch(inputs, targets)\n",
        "print('Learning Finished')\n",
        "env.close()\n",
        "show_video()"
      ],
      "execution_count": null,
      "outputs": []
    },
    {
      "cell_type": "code",
      "metadata": {
        "id": "8RSFWo2ZF4-A",
        "colab_type": "code",
        "colab": {}
      },
      "source": [
        "#Play\n",
        "\n",
        "observation = env.reset()\n",
        "obs = np.expand_dims(observation, axis=0)\n",
        "state = np.stack((obs, obs), axis=1)\n",
        "done = False\n",
        "tot_reward = 0.0\n",
        "\n",
        "\n",
        "while not done:\n",
        "    #env.render()                    # Uncomment to see game running\n",
        "    Q = model.predict(state)        \n",
        "    action = np.argmax(Q)         \n",
        "    observation, reward, done, info = env.step(action)\n",
        "    obs = np.expand_dims(observation, axis=0)\n",
        "    state = np.append(np.expand_dims(obs, axis=0), state[:, :1, :], axis=1)    \n",
        "    tot_reward += reward\n",
        "print('Game ended! Total reward: {}'.format(reward))\n",
        "show_video()"
      ],
      "execution_count": null,
      "outputs": []
    }
  ]
}